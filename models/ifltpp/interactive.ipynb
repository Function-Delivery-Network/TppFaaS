{
 "cells": [
  {
   "cell_type": "code",
   "execution_count": 112,
   "metadata": {},
   "outputs": [
    {
     "name": "stdout",
     "output_type": "stream",
     "text": [
      "The autoreload extension is already loaded. To reload it, use:\n",
      "  %reload_ext autoreload\n"
     ]
    }
   ],
   "source": [
    "%load_ext autoreload\n",
    "%autoreload 2\n",
    "import dpp\n",
    "import matplotlib.pyplot as plt\n",
    "import numpy as np\n",
    "import torch\n",
    "from copy import deepcopy\n",
    "from time import process_time\n",
    "#torch.set_default_tensor_type(torch.cuda.FloatTensor)"
   ]
  },
  {
   "cell_type": "code",
   "execution_count": 113,
   "metadata": {},
   "outputs": [
    {
     "data": {
      "text/plain": [
       "['final_batched_high_load_n_400/20210610_23:14_fanout_large_fetched_397_n_400_l_0.01_u_0.01_b_50_w_120',\n",
       " 'final_batched_high_load_n_400/20210611_00:04_parallel_large_fetched_390_n_400_l_0.01_u_0.01_b_50_w_120',\n",
       " 'final_batched_high_load_n_400/20210611_00:53_tree_large_fetched_399_n_400_l_0.01_u_0.01_b_50_w_120',\n",
       " 'final_batched_high_load_n_400/20210611_01:43_fanout_large_fetched_391_n_400_l_0.01_u_0.01_b_50_w_120_rand',\n",
       " 'final_batched_high_load_n_400/20210611_02:33_parallel_large_fetched_383_n_400_l_0.01_u_0.01_b_50_w_120_rand',\n",
       " 'final_batched_high_load_n_400/20210611_03:23_tree_large_fetched_398_n_400_l_0.01_u_0.01_b_50_w_120_rand',\n",
       " 'final_batched_high_load_n_400/20210611_04:13_fanout_small_fetched_384_n_400_l_0.0001_u_0.0001_b_50_w_120',\n",
       " 'final_batched_high_load_n_400/20210611_07:23_fanout_small_fetched_394_n_400_l_0.0001_u_0.0001_b_50_w_120_rand',\n",
       " 'final_batched_high_load_n_400/20210611_11:32_parallel_small_fetched_397_n_400_l_0.0001_u_0.0001_b_50_w_120',\n",
       " 'final_batched_high_load_n_400/20210611_12:23_tree_small_fetched_399_n_400_l_0.0001_u_0.0001_b_50_w_120',\n",
       " 'final_batched_high_load_n_400/20210611_12:49_parallel_small_fetched_398_n_400_l_0.0001_u_0.0001_b_50_w_120_rand',\n",
       " 'final_batched_high_load_n_400/20210611_13:40_tree_small_fetched_394_n_400_l_0.0001_u_0.0001_b_50_w_120_rand',\n",
       " 'final_batched_high_load_n_400/20210611_16:55_sequence_fetched_500_n_500_l_0.0001_u_0.0001_b_50_w_120',\n",
       " 'final_batched_high_load_n_400/20210611_17:16_sequence_fetched_500_n_500_l_0.0001_u_0.0001_b_50_w_120_rand',\n",
       " 'final_high_load_n_1000/injected_20210610_23:14_fanout_large_fetched_397_n_400_l_0.01_u_0.01_b_50_w_120',\n",
       " 'final_high_load_n_1000/injected_20210611_00:04_parallel_large_fetched_390_n_400_l_0.01_u_0.01_b_50_w_120',\n",
       " 'final_high_load_n_1000/injected_20210611_00:53_tree_large_fetched_399_n_400_l_0.01_u_0.01_b_50_w_120',\n",
       " 'final_high_load_n_1000/injected_20210611_01:43_fanout_large_fetched_391_n_400_l_0.01_u_0.01_b_50_w_120_rand',\n",
       " 'final_high_load_n_1000/injected_20210611_02:33_parallel_large_fetched_383_n_400_l_0.01_u_0.01_b_50_w_120_rand',\n",
       " 'final_high_load_n_1000/injected_20210611_03:23_tree_large_fetched_398_n_400_l_0.01_u_0.01_b_50_w_120_rand',\n",
       " 'final_high_load_n_1000/injected_20210611_04:13_fanout_small_fetched_384_n_400_l_0.0001_u_0.0001_b_50_w_120',\n",
       " 'final_high_load_n_1000/injected_20210611_07:23_fanout_small_fetched_394_n_400_l_0.0001_u_0.0001_b_50_w_120_rand',\n",
       " 'final_high_load_n_1000/injected_20210611_11:32_parallel_small_fetched_397_n_400_l_0.0001_u_0.0001_b_50_w_120',\n",
       " 'final_high_load_n_1000/injected_20210611_12:23_tree_small_fetched_399_n_400_l_0.0001_u_0.0001_b_50_w_120',\n",
       " 'final_high_load_n_1000/injected_20210611_12:49_parallel_small_fetched_398_n_400_l_0.0001_u_0.0001_b_50_w_120_rand',\n",
       " 'final_high_load_n_1000/injected_20210611_13:40_tree_small_fetched_394_n_400_l_0.0001_u_0.0001_b_50_w_120_rand',\n",
       " 'final_high_load_n_1000/injected_20210611_16:55_sequence_fetched_500_n_500_l_0.0001_u_0.0001_b_50_w_120',\n",
       " 'final_high_load_n_1000/injected_20210611_17:16_sequence_fetched_500_n_500_l_0.0001_u_0.0001_b_50_w_120_rand',\n",
       " 'final_low_load_n_1000/20210604_23:26_fanout_large_fetched_1000_n_1000_l_0.9_u_1.4',\n",
       " 'final_low_load_n_1000/20210604_23:49_parallel_large_fetched_1000_n_1000_l_0.9_u_1.4',\n",
       " 'final_low_load_n_1000/20210605_00:21_tree_large_fetched_999_n_1000_l_0.9_u_1.4',\n",
       " 'final_low_load_n_1000/20210605_00:45_fanout_large_fetched_1000_n_1000_l_0.9_u_1.4_rand',\n",
       " 'final_low_load_n_1000/20210605_01:08_parallel_large_fetched_1000_n_1000_l_0.9_u_1.4_rand',\n",
       " 'final_low_load_n_1000/20210605_01:32_tree_large_fetched_1000_n_1000_l_0.9_u_1.4_rand',\n",
       " 'final_low_load_n_1000/20210605_01:44_fanout_small_fetched_1000_n_1000_l_0.3_u_0.6',\n",
       " 'final_low_load_n_1000/20210605_01:56_parallel_small_fetched_1000_n_1000_l_0.3_u_0.6',\n",
       " 'final_low_load_n_1000/20210605_02:08_sequence_fetched_1000_n_1000_l_0.3_u_0.6',\n",
       " 'final_low_load_n_1000/20210605_02:19_tree_small_fetched_1000_n_1000_l_0.3_u_0.6',\n",
       " 'final_low_load_n_1000/20210605_02:31_fanout_small_fetched_1000_n_1000_l_0.3_u_0.6_rand',\n",
       " 'final_low_load_n_1000/20210605_02:43_parallel_small_fetched_1000_n_1000_l_0.3_u_0.6_rand',\n",
       " 'final_low_load_n_1000/20210605_02:55_sequence_fetched_1000_n_1000_l_0.3_u_0.6_rand',\n",
       " 'final_low_load_n_1000/20210605_03:07_tree_small_fetched_1000_n_1000_l_0.3_u_0.6_rand']"
      ]
     },
     "execution_count": 113,
     "metadata": {},
     "output_type": "execute_result"
    }
   ],
   "source": [
    "dpp.data.list_datasets()"
   ]
  },
  {
   "cell_type": "code",
   "execution_count": 114,
   "metadata": {},
   "outputs": [],
   "source": [
    "# Config\n",
    "seed = 0\n",
    "np.random.seed(seed)\n",
    "torch.manual_seed(seed)\n",
    "dataset_name = \"final_low_load_n_1000/20210605_02:55_sequence_fetched_1000_n_1000_l_0.3_u_0.6_rand\"  # run dpp.data.list_datasets() to see the list of available datasets\n",
    "\n",
    "# Model config\n",
    "context_size = 64                 # Size of the RNN hidden vector\n",
    "mark_embedding_size = 32          # Size of the mark embedding (used as RNN input)\n",
    "coldstart_feature = True          # Model feature indicating if the last invocation was a cold start\n",
    "coldstart_embedding_size = 32     # Size of the cold start feature embedding (used as RNN input)\n",
    "num_mix_components = 16           # Number of components for a mixture model\n",
    "rnn_type = \"GRU\"                  # What RNN to use as an encoder {\"RNN\", \"GRU\", \"LSTM\"}\n",
    "mae_loss = False                  # Evaluate the predicted time for the next invocation with the mean absolute error.\n",
    "                                  # Therefore, the model predicts \\tau directly instead of the PDF f^*(\\tau) (see 'TruncNorm' in the paper)\n",
    "\n",
    "# Training config\n",
    "batch_size = 64        # Number of sequences in a batch\n",
    "regularization = 1e-5  # L2 regularization parameter\n",
    "learning_rate = 1e-3   # Learning rate for Adam optimizer\n",
    "max_epochs = 200       # For how many epochs to train\n",
    "display_step = 5       # Display training statistics after every display_step\n",
    "patience = 20          # After how many consecutive epochs without improvement of val loss to stop training"
   ]
  },
  {
   "cell_type": "code",
   "execution_count": 115,
   "metadata": {},
   "outputs": [],
   "source": [
    "# Load the data\n",
    "dataset = dpp.data.load_dataset(dataset_name)\n",
    "d_train, d_val, d_test = dataset.train_val_test_split(seed=seed)\n",
    "\n",
    "dl_train = d_train.get_dataloader(batch_size=batch_size, shuffle=True)\n",
    "dl_val = d_val.get_dataloader(batch_size=batch_size, shuffle=False)\n",
    "dl_test = d_test.get_dataloader(batch_size=batch_size, shuffle=False)"
   ]
  },
  {
   "cell_type": "code",
   "execution_count": 116,
   "metadata": {},
   "outputs": [
    {
     "name": "stdout",
     "output_type": "stream",
     "text": [
      "Building model...\n"
     ]
    }
   ],
   "source": [
    "# Define the model\n",
    "print('Building model...')\n",
    "mean_log_inter_time, std_log_inter_time = d_train.get_inter_time_statistics()\n",
    "\n",
    "model = dpp.models.LogNormMix(\n",
    "    num_marks=d_train.num_marks,\n",
    "    mean_log_inter_time=mean_log_inter_time,\n",
    "    std_log_inter_time=std_log_inter_time,\n",
    "    context_size=context_size,\n",
    "    mark_embedding_size=mark_embedding_size,\n",
    "    rnn_type=rnn_type,\n",
    "    num_mix_components=num_mix_components,\n",
    "    coldstart_feature=coldstart_feature,\n",
    "    coldstart_embedding_size=coldstart_embedding_size\n",
    ")\n",
    "opt = torch.optim.Adam(model.parameters(), weight_decay=regularization, lr=learning_rate)"
   ]
  },
  {
   "cell_type": "code",
   "execution_count": 117,
   "metadata": {},
   "outputs": [],
   "source": [
    "# Training\n",
    "def inter_time_errors(batch):\n",
    "    predicted_inter_times, _ = model.predict(batch)\n",
    "    errors = predicted_inter_times - batch.inter_times\n",
    "    #indices = torch.nonzero(batch.mask, as_tuple=True)\n",
    "    #return errors[indices]\n",
    "    index = torch.nonzero(batch.mask.sum(dim=0), as_tuple=True)[0]  # Only works if all sequences have the same length.\n",
    "    return errors.index_select(dim=1, index=index)\n",
    "\n",
    "def correct_predicted_marks(batch):\n",
    "    _, predicted_marks = model.predict(batch)\n",
    "    correct_predictions = predicted_marks == batch.marks\n",
    "    index = torch.nonzero(batch.mask.sum(dim=0), as_tuple=True)[0]  # Only works if all sequences have the same length.\n",
    "    return correct_predictions.index_select(dim=1, index=index)\n",
    "\n",
    "def aggregate_loss_over_dataloader(dl, mae_loss):\n",
    "    total_loss = 0.0\n",
    "    total_count = 0\n",
    "    with torch.no_grad():\n",
    "        for batch in dl:\n",
    "            if mae_loss:\n",
    "                total_loss += (inter_time_errors(batch).abs().sum() - model.mark_log_prob(batch).sum()).item()\n",
    "            else:\n",
    "                total_loss += -model.log_prob(batch).sum().item()\n",
    "            total_count += batch.mask.sum().item()\n",
    "    return total_loss / total_count\n",
    "\n",
    "def aggregate_mark_nll_over_dataloader(dl):\n",
    "    total_loss = 0.0\n",
    "    total_count = 0\n",
    "    with torch.no_grad():\n",
    "        for batch in dl:\n",
    "            total_loss += -model.mark_log_prob(batch).sum().item()\n",
    "            total_count += batch.mask.sum().item()\n",
    "    return total_loss / total_count\n",
    "\n",
    "def aggregate_mae_over_dataloader(dl):\n",
    "    total_mae = 0.0\n",
    "    total_count = 0\n",
    "    with torch.no_grad():\n",
    "        for batch in dl:\n",
    "            total_mae += inter_time_errors(batch).abs().sum().item()\n",
    "            total_count += batch.mask.sum().item()\n",
    "    return total_mae / total_count\n",
    "\n",
    "def aggregate_accuracy_over_dataloader(dl):\n",
    "    total_correct_predictions = 0.0\n",
    "    total_count = 0\n",
    "    with torch.no_grad():\n",
    "        for batch in dl:\n",
    "            total_correct_predictions += correct_predicted_marks(batch).sum().item()\n",
    "            total_count += batch.mask.sum().item()\n",
    "    return total_correct_predictions / total_count\n",
    "\n",
    "def inter_time_errors_over_dataloader(dl):\n",
    "    result = torch.Tensor()\n",
    "    with torch.no_grad():\n",
    "        for batch in dl:\n",
    "            result = torch.cat([result, inter_time_errors(batch)], dim=0)\n",
    "    return result\n",
    "\n",
    "def correct_predicted_marks_over_dataloader(dl):\n",
    "    result = torch.Tensor()\n",
    "    with torch.no_grad():\n",
    "        for batch in dl:\n",
    "            result = torch.cat([result, correct_predicted_marks(batch)], dim=0)\n",
    "    return result"
   ]
  },
  {
   "cell_type": "code",
   "execution_count": 118,
   "metadata": {
    "scrolled": true,
    "tags": []
   },
   "outputs": [
    {
     "name": "stdout",
     "output_type": "stream",
     "text": [
      "Starting training...\n",
      "Epoch    0 of  200: loss_train_last_batch = 105.460, loss_val = 10.466, mark_nll_val = 2.023, mae_val = 388.785, acc_val = 0.700\n",
      "Epoch    5 of  200: loss_train_last_batch = 71.396, loss_val = 7.166, mark_nll_val = 1.155, mae_val = 388.933, acc_val = 1.000\n",
      "Epoch   10 of  200: loss_train_last_batch = 61.669, loss_val = 6.168, mark_nll_val = 0.519, mae_val = 388.908, acc_val = 1.000\n",
      "Epoch   15 of  200: loss_train_last_batch = 56.939, loss_val = 5.744, mark_nll_val = 0.193, mae_val = 388.905, acc_val = 1.000\n",
      "Epoch   20 of  200: loss_train_last_batch = 55.150, loss_val = 5.543, mark_nll_val = 0.095, mae_val = 388.904, acc_val = 1.000\n",
      "Epoch   25 of  200: loss_train_last_batch = 54.806, loss_val = 5.518, mark_nll_val = 0.057, mae_val = 388.902, acc_val = 1.000\n",
      "Epoch   30 of  200: loss_train_last_batch = 54.290, loss_val = 5.484, mark_nll_val = 0.039, mae_val = 388.902, acc_val = 1.000\n",
      "Epoch   35 of  200: loss_train_last_batch = 55.294, loss_val = 5.506, mark_nll_val = 0.029, mae_val = 388.901, acc_val = 1.000\n",
      "Epoch   40 of  200: loss_train_last_batch = 54.430, loss_val = 5.504, mark_nll_val = 0.022, mae_val = 388.900, acc_val = 1.000\n",
      "Epoch   45 of  200: loss_train_last_batch = 53.926, loss_val = 5.454, mark_nll_val = 0.018, mae_val = 388.900, acc_val = 1.000\n",
      "Epoch   50 of  200: loss_train_last_batch = 54.353, loss_val = 5.424, mark_nll_val = 0.015, mae_val = 388.900, acc_val = 1.000\n",
      "Epoch   55 of  200: loss_train_last_batch = 55.458, loss_val = 5.424, mark_nll_val = 0.012, mae_val = 388.899, acc_val = 1.000\n",
      "Epoch   60 of  200: loss_train_last_batch = 55.002, loss_val = 5.431, mark_nll_val = 0.011, mae_val = 388.899, acc_val = 1.000\n",
      "Epoch   65 of  200: loss_train_last_batch = 54.224, loss_val = 5.440, mark_nll_val = 0.009, mae_val = 388.899, acc_val = 1.000\n",
      "Epoch   70 of  200: loss_train_last_batch = 54.169, loss_val = 5.444, mark_nll_val = 0.008, mae_val = 388.898, acc_val = 1.000\n",
      "Breaking due to early stopping at epoch 75\n",
      "Trained process time: 25.819s\n",
      "Trained epochs: 76\n"
     ]
    }
   ],
   "source": [
    "# Traning\n",
    "print('Starting training...')\n",
    "\n",
    "impatient = 0\n",
    "best_loss = np.inf\n",
    "best_model = deepcopy(model.state_dict())\n",
    "start_processtime = process_time()\n",
    "\n",
    "for epoch in range(max_epochs):\n",
    "    model.train()\n",
    "    for batch in dl_train:\n",
    "        opt.zero_grad()\n",
    "        loss = 0.0\n",
    "        if mae_loss:\n",
    "            loss = inter_time_errors(batch).abs().mean() - model.mark_log_prob(batch).mean()\n",
    "        else:\n",
    "            loss = -model.log_prob(batch).mean()\n",
    "        loss.backward()\n",
    "        opt.step()\n",
    "\n",
    "    model.eval()\n",
    "    with torch.no_grad():\n",
    "        loss_val = aggregate_loss_over_dataloader(dl_val, mae_loss)\n",
    "        mark_nll_val = aggregate_mark_nll_over_dataloader(dl_val)\n",
    "        mae_val = aggregate_mae_over_dataloader(dl_val)\n",
    "        acc_val = aggregate_accuracy_over_dataloader(dl_val)\n",
    "\n",
    "    if (best_loss - loss_val) < 1e-4:\n",
    "        impatient += 1\n",
    "        if loss_val < best_loss:\n",
    "            best_loss = loss_val\n",
    "            best_model = deepcopy(model.state_dict())\n",
    "    else:\n",
    "        best_loss = loss_val\n",
    "        best_model = deepcopy(model.state_dict())\n",
    "        impatient = 0\n",
    "\n",
    "    if impatient >= patience:\n",
    "        print(f'Breaking due to early stopping at epoch {epoch}')\n",
    "        break\n",
    "\n",
    "    if epoch % display_step == 0:\n",
    "        print(f\"Epoch {epoch:4d} of {max_epochs:4d}: loss_train_last_batch = {loss.item():.3f}, loss_val = {loss_val:.3f}, mark_nll_val = {mark_nll_val:.3f}, mae_val = {mae_val:.3f}, acc_val = {acc_val:.3f}\")\n",
    "\n",
    "trained_processtime = process_time() - start_processtime\n",
    "print(f\"Trained process time: {trained_processtime:.3f}s\\n\"\n",
    "      f\"Trained epochs: {epoch+1}\")"
   ]
  },
  {
   "cell_type": "code",
   "execution_count": 119,
   "metadata": {},
   "outputs": [
    {
     "name": "stdout",
     "output_type": "stream",
     "text": [
      "Total loss (= NLL_time + NLL_mark):\n",
      "- Train: 5.446\n",
      "- Val:   5.424\n",
      "- Test:  5.428\n",
      "Mark negative log-likelihood (NLL_mark):\n",
      "- Train: 0.013\n",
      "- Val:   0.012\n",
      "- Test:  0.012\n",
      "Accuracy:\n",
      "- Train: 1.000\n",
      "- Val:   1.000\n",
      "- Test:  1.000\n"
     ]
    }
   ],
   "source": [
    "# Evaluation\n",
    "model.load_state_dict(best_model)\n",
    "model.eval()\n",
    "# Evaluation via total loss (= NLL_time + NLL_mark, if mae_loss=False, = MAE_time + NLL_mark, else)\n",
    "with torch.no_grad():\n",
    "    final_loss_train = aggregate_loss_over_dataloader(dl_train, mae_loss)\n",
    "    final_loss_val = aggregate_loss_over_dataloader(dl_val, mae_loss)\n",
    "    final_loss_test = aggregate_loss_over_dataloader(dl_test, mae_loss)\n",
    "s = \"NLL_time + NLL_mark\"\n",
    "if mae_loss:\n",
    "    s = \"MAE_time + NLL_mark\"\n",
    "print(f'Total loss (= {s}):\\n'\n",
    "    f'- Train: {final_loss_train:.3f}\\n'\n",
    "    f'- Val:   {final_loss_val:.3f}\\n'\n",
    "    f'- Test:  {final_loss_test:.3f}')\n",
    "# Evaluation via mark negative log-likelihood\n",
    "with torch.no_grad():\n",
    "    final_mark_nll_train = aggregate_mark_nll_over_dataloader(dl_train)\n",
    "    final_mark_nll_val = aggregate_mark_nll_over_dataloader(dl_val)\n",
    "    final_mark_nll_test = aggregate_mark_nll_over_dataloader(dl_test)\n",
    "print(f'Mark negative log-likelihood (NLL_mark):\\n'\n",
    "    f'- Train: {final_mark_nll_train:.3f}\\n'\n",
    "    f'- Val:   {final_mark_nll_val:.3f}\\n'\n",
    "    f'- Test:  {final_mark_nll_test:.3f}')\n",
    "# Evaluation via accuracy\n",
    "with torch.no_grad():\n",
    "    final_acc_train = aggregate_accuracy_over_dataloader(dl_train)\n",
    "    final_acc_val = aggregate_accuracy_over_dataloader(dl_val)\n",
    "    final_acc_test = aggregate_accuracy_over_dataloader(dl_test)\n",
    "print(f'Accuracy:\\n'\n",
    "    f'- Train: {final_acc_train:.3f}\\n'\n",
    "    f'- Val:   {final_acc_val:.3f}\\n'\n",
    "    f'- Test:  {final_acc_test:.3f}')\n",
    "if mae_loss:\n",
    "    # Evaluation via mean absolute error\n",
    "    with torch.no_grad():\n",
    "        final_mae_train = aggregate_mae_over_dataloader(dl_train)\n",
    "        final_mae_val = aggregate_mae_over_dataloader(dl_val)\n",
    "        final_mae_test = aggregate_mae_over_dataloader(dl_test)\n",
    "    print(f'Mean absolute error (MAE):\\n'\n",
    "        f'- Train: {final_mae_train:.3f}\\n'\n",
    "        f'- Val:   {final_mae_val:.3f}\\n'\n",
    "        f'- Test:  {final_mae_test:.3f}')"
   ]
  },
  {
   "cell_type": "code",
   "execution_count": 120,
   "metadata": {
    "tags": []
   },
   "outputs": [
    {
     "name": "stderr",
     "output_type": "stream",
     "text": [
      "/usr/local/anaconda3/envs/tppfaas/lib/python3.9/site-packages/numpy/lib/histograms.py:906: RuntimeWarning: invalid value encountered in true_divide\n",
      "  return n/db/n.sum(), bin_edges\n"
     ]
    },
    {
     "data": {
      "image/png": "[encoded data removed]",
      "text/plain": [
       "<Figure size 432x288 with 1 Axes>"
      ]
     },
     "metadata": {
      "needs_background": "light"
     },
     "output_type": "display_data"
    }
   ],
   "source": [
    "# Evaluation of differences between predicted and true inter-time\n",
    "model.load_state_dict(best_model)\n",
    "model.eval() \n",
    "\n",
    "plt.hist(inter_time_errors_over_dataloader(dl_test).numpy(), bins=100, label=\"test\", range=(-80, 80), density=True)\n",
    "plt.ylabel(\"Probability\")\n",
    "plt.xlabel(\"Difference to true inter-time (ms)\")\n",
    "plt.title(\"Differences between Predicted and True Inter-Time\")\n",
    "plt.show()"
   ]
  },
  {
   "cell_type": "code",
   "execution_count": null,
   "metadata": {},
   "outputs": [],
   "source": []
  }
 ],
 "metadata": {
  "interpreter": {
   "hash": "69eab8d6e6b2d802a92b213253e67d01208d34a5ba75b93b41b5d52fbeb698e3"
  },
  "kernelspec": {
   "display_name": "ifltpp",
   "language": "python",
   "name": "python3"
  },
  "language_info": {
   "codemirror_mode": {
    "name": "ipython",
    "version": 3
   },
   "file_extension": ".py",
   "mimetype": "text/x-python",
   "name": "python",
   "nbconvert_exporter": "python",
   "pygments_lexer": "ipython3",
   "version": "3.9.7"
  },
  "metadata": {
   "interpreter": {
    "hash": "f977599a756708fbfdd0fdf6f342412f314e8fc379cda59ccfbf9fdfe5b18870"
   }
  },
  "toc": {
   "base_numbering": 1,
   "nav_menu": {},
   "number_sections": true,
   "sideBar": true,
   "skip_h1_title": false,
   "title_cell": "Table of Contents",
   "title_sidebar": "Contents",
   "toc_cell": false,
   "toc_position": {},
   "toc_section_display": true,
   "toc_window_display": false
  }
 },
 "nbformat": 4,
 "nbformat_minor": 4
}
