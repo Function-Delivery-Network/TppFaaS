{
 "cells": [
  {
   "cell_type": "code",
   "execution_count": 2,
   "metadata": {},
   "outputs": [
    {
     "name": "stdout",
     "output_type": "stream",
     "text": [
      "The autoreload extension is already loaded. To reload it, use:\n",
      "  %reload_ext autoreload\n"
     ]
    }
   ],
   "source": [
    "%load_ext autoreload\n",
    "%autoreload 2\n",
    "import dpp\n",
    "import numpy as np\n",
    "import torch\n",
    "from copy import deepcopy\n",
    "#torch.set_default_tensor_type(torch.cuda.FloatTensor)"
   ]
  },
  {
   "cell_type": "code",
   "execution_count": 3,
   "metadata": {},
   "outputs": [
    {
     "data": {
      "text/plain": [
       "['final_batched_high_load_n_400/20210610_23:14_fanout_large_fetched_397_n1_0_l1_0.0_u1_0.0_n2_400_l2_0.01_u2_0.01',\n",
       " 'final_batched_high_load_n_400/20210611_00:04_parallel_large_fetched_390_n1_0_l1_0.0_u1_0.0_n2_400_l2_0.01_u2_0.01',\n",
       " 'final_batched_high_load_n_400/20210611_00:53_tree_large_fetched_399_n1_0_l1_0.0_u1_0.0_n2_400_l2_0.01_u2_0.01',\n",
       " 'final_batched_high_load_n_400/20210611_01:43_fanout_large_fetched_391_n1_0_l1_0.0_u1_0.0_n2_400_l2_0.01_u2_0.01_rand',\n",
       " 'final_batched_high_load_n_400/20210611_02:33_parallel_large_fetched_383_n1_0_l1_0.0_u1_0.0_n2_400_l2_0.01_u2_0.01_rand',\n",
       " 'final_batched_high_load_n_400/20210611_03:23_tree_large_fetched_398_n1_0_l1_0.0_u1_0.0_n2_400_l2_0.01_u2_0.01_rand',\n",
       " 'final_batched_high_load_n_400/20210611_04:13_fanout_small_fetched_384_n1_0_l1_0.0_u1_0.0_n2_400_l2_0.0001_u2_0.0001',\n",
       " 'final_batched_high_load_n_400/20210611_07:23_fanout_small_fetched_394_n1_0_l1_0.0_u1_0.0_n2_400_l2_0.0001_u2_0.0001_rand',\n",
       " 'final_batched_high_load_n_400/20210611_11:32_parallel_small_fetched_397_n1_0_l1_0.0_u1_0.0_n2_400_l2_0.0001_u2_0.0001',\n",
       " 'final_batched_high_load_n_400/20210611_12:23_tree_small_fetched_399_n1_0_l1_0.0_u1_0.0_n2_400_l2_0.0001_u2_0.0001',\n",
       " 'final_batched_high_load_n_400/20210611_12:49_parallel_small_fetched_398_n1_0_l1_0.0_u1_0.0_n2_400_l2_0.0001_u2_0.0001_rand',\n",
       " 'final_batched_high_load_n_400/20210611_13:40_tree_small_fetched_394_n1_0_l1_0.0_u1_0.0_n2_400_l2_0.0001_u2_0.0001_rand',\n",
       " 'final_batched_high_load_n_400/20210611_16:55_sequence_fetched_500_n1_0_l1_0.0_u1_0.0_n2_500_l2_0.0001_u2_0.0001',\n",
       " 'final_batched_high_load_n_400/20210611_17:16_sequence_fetched_500_n1_0_l1_0.0_u1_0.0_n2_500_l2_0.0001_u2_0.0001_rand',\n",
       " 'final_high_load_n_1000/injected_20210610_23:14_fanout_large_fetched_397_n1_0_l1_0.0_u1_0.0_n2_400_l2_0.01_u2_0.01',\n",
       " 'final_high_load_n_1000/injected_20210611_00:04_parallel_large_fetched_390_n1_0_l1_0.0_u1_0.0_n2_400_l2_0.01_u2_0.01',\n",
       " 'final_high_load_n_1000/injected_20210611_00:53_tree_large_fetched_399_n1_0_l1_0.0_u1_0.0_n2_400_l2_0.01_u2_0.01',\n",
       " 'final_high_load_n_1000/injected_20210611_01:43_fanout_large_fetched_391_n1_0_l1_0.0_u1_0.0_n2_400_l2_0.01_u2_0.01_rand',\n",
       " 'final_high_load_n_1000/injected_20210611_02:33_parallel_large_fetched_383_n1_0_l1_0.0_u1_0.0_n2_400_l2_0.01_u2_0.01_rand',\n",
       " 'final_high_load_n_1000/injected_20210611_03:23_tree_large_fetched_398_n1_0_l1_0.0_u1_0.0_n2_400_l2_0.01_u2_0.01_rand',\n",
       " 'final_high_load_n_1000/injected_20210611_04:13_fanout_small_fetched_384_n1_0_l1_0.0_u1_0.0_n2_400_l2_0.0001_u2_0.0001',\n",
       " 'final_high_load_n_1000/injected_20210611_07:23_fanout_small_fetched_394_n1_0_l1_0.0_u1_0.0_n2_400_l2_0.0001_u2_0.0001_rand',\n",
       " 'final_high_load_n_1000/injected_20210611_11:32_parallel_small_fetched_397_n1_0_l1_0.0_u1_0.0_n2_400_l2_0.0001_u2_0.0001',\n",
       " 'final_high_load_n_1000/injected_20210611_12:23_tree_small_fetched_399_n1_0_l1_0.0_u1_0.0_n2_400_l2_0.0001_u2_0.0001',\n",
       " 'final_high_load_n_1000/injected_20210611_12:49_parallel_small_fetched_398_n1_0_l1_0.0_u1_0.0_n2_400_l2_0.0001_u2_0.0001_rand',\n",
       " 'final_high_load_n_1000/injected_20210611_13:40_tree_small_fetched_394_n1_0_l1_0.0_u1_0.0_n2_400_l2_0.0001_u2_0.0001_rand',\n",
       " 'final_high_load_n_1000/injected_20210611_16:55_sequence_fetched_500_n1_0_l1_0.0_u1_0.0_n2_500_l2_0.0001_u2_0.0001',\n",
       " 'final_high_load_n_1000/injected_20210611_17:16_sequence_fetched_500_n1_0_l1_0.0_u1_0.0_n2_500_l2_0.0001_u2_0.0001_rand',\n",
       " 'final_low_load_n_1000/20210604_23:26_fanout_large_fetched_1000_n1_1000_l1_0.9_u1_1.4',\n",
       " 'final_low_load_n_1000/20210604_23:49_parallel_large_fetched_1000_n1_1000_l1_0.9_u1_1.4',\n",
       " 'final_low_load_n_1000/20210605_00:21_tree_large_fetched_999_n1_1000_l1_0.9_u1_1.4',\n",
       " 'final_low_load_n_1000/20210605_00:45_fanout_large_fetched_1000_n1_1000_l1_0.9_u1_1.4_rand',\n",
       " 'final_low_load_n_1000/20210605_01:08_parallel_large_fetched_1000_n1_1000_l1_0.9_u1_1.4_rand',\n",
       " 'final_low_load_n_1000/20210605_01:32_tree_large_fetched_1000_n1_1000_l1_0.9_u1_1.4_rand',\n",
       " 'final_low_load_n_1000/20210605_01:44_fanout_small_fetched_1000_n1_1000_l1_0.3_u1_0.6',\n",
       " 'final_low_load_n_1000/20210605_01:56_parallel_small_fetched_1000_n1_1000_l1_0.3_u1_0.6',\n",
       " 'final_low_load_n_1000/20210605_02:08_sequence_fetched_1000_n1_1000_l1_0.3_u1_0.6',\n",
       " 'final_low_load_n_1000/20210605_02:19_tree_small_fetched_1000_n1_1000_l1_0.3_u1_0.6',\n",
       " 'final_low_load_n_1000/20210605_02:31_fanout_small_fetched_1000_n1_1000_l1_0.3_u1_0.6_rand',\n",
       " 'final_low_load_n_1000/20210605_02:43_parallel_small_fetched_1000_n1_1000_l1_0.3_u1_0.6_rand',\n",
       " 'final_low_load_n_1000/20210605_02:55_sequence_fetched_1000_n1_1000_l1_0.3_u1_0.6_rand',\n",
       " 'final_low_load_n_1000/20210605_03:07_tree_small_fetched_1000_n1_1000_l1_0.3_u1_0.6_rand']"
      ]
     },
     "execution_count": 3,
     "metadata": {},
     "output_type": "execute_result"
    }
   ],
   "source": [
    "dpp.data.list_datasets()"
   ]
  },
  {
   "cell_type": "code",
   "execution_count": 8,
   "metadata": {},
   "outputs": [],
   "source": [
    "# Config\n",
    "seed = 0\n",
    "np.random.seed(seed)\n",
    "torch.manual_seed(seed)\n",
    "dataset_name = 'final_low_load_n_1000/20210605_02:08_sequence_fetched_1000_n1_1000_l1_0.3_u1_0.6'  # run dpp.data.list_datasets() to see the list of available datasets\n",
    "\n",
    "# Model config\n",
    "context_size = 64                 # Size of the RNN hidden vector\n",
    "mark_embedding_size = 32          # Size of the mark embedding (used as RNN input)\n",
    "num_mix_components = 64           # Number of components for a mixture model\n",
    "rnn_type = \"GRU\"                  # What RNN to use as an encoder {\"RNN\", \"GRU\", \"LSTM\"}\n",
    "coldstart_feature = True          # Enabling the cold start feature\n",
    "\n",
    "# Training config\n",
    "batch_size = 64        # Number of sequences in a batch\n",
    "regularization = 1e-5  # L2 regularization parameter\n",
    "learning_rate = 1e-3   # Learning rate for Adam optimizer\n",
    "max_epochs = 200       # For how many epochs to train\n",
    "display_step = 5       # Display training statistics after every display_step\n",
    "patience = 20          # After how many consecutive epochs without improvement of val loss to stop training"
   ]
  },
  {
   "cell_type": "code",
   "execution_count": 9,
   "metadata": {},
   "outputs": [],
   "source": [
    "# Load the data\n",
    "dataset = dpp.data.load_dataset(dataset_name)\n",
    "d_train, d_val, d_test = dataset.train_val_test_split(seed=seed)\n",
    "\n",
    "dl_train = d_train.get_dataloader(batch_size=batch_size, shuffle=True)\n",
    "dl_val = d_val.get_dataloader(batch_size=batch_size, shuffle=False)\n",
    "dl_test = d_test.get_dataloader(batch_size=batch_size, shuffle=False)"
   ]
  },
  {
   "cell_type": "code",
   "execution_count": 10,
   "metadata": {},
   "outputs": [
    {
     "name": "stdout",
     "output_type": "stream",
     "text": [
      "Building model...\n"
     ]
    }
   ],
   "source": [
    "# Define the model\n",
    "print('Building model...')\n",
    "mean_log_inter_time, std_log_inter_time = d_train.get_inter_time_statistics()\n",
    "\n",
    "model = dpp.models.LogNormMix(\n",
    "    num_marks=d_train.num_marks,\n",
    "    mean_log_inter_time=mean_log_inter_time,\n",
    "    std_log_inter_time=std_log_inter_time,\n",
    "    context_size=context_size,\n",
    "    mark_embedding_size=mark_embedding_size,\n",
    "    rnn_type=rnn_type,\n",
    "    num_mix_components=num_mix_components,\n",
    "    coldstart_feature=coldstart_feature\n",
    ")\n",
    "opt = torch.optim.Adam(model.parameters(), weight_decay=regularization, lr=learning_rate)"
   ]
  },
  {
   "cell_type": "code",
   "execution_count": 11,
   "metadata": {},
   "outputs": [],
   "source": [
    "def aggregate_loss_over_dataloader(dl):\n",
    "    total_loss = 0.0\n",
    "    total_count = 0\n",
    "    with torch.no_grad():\n",
    "        for batch in dl:\n",
    "            total_loss += -model.log_prob(batch).sum().item()\n",
    "            total_count += batch.size\n",
    "    return total_loss / total_count\n",
    "\n",
    "def aggregate_mae_over_dataloader(dl):\n",
    "    total_mae = 0.0\n",
    "    total_count = 0\n",
    "    with torch.no_grad():\n",
    "        for batch in dl:\n",
    "            predicted_inter_times, _ = model.predict(batch)\n",
    "            abs_errors = torch.abs(predicted_inter_times - batch.inter_times) * batch.mask\n",
    "            total_mae += abs_errors.sum()\n",
    "            total_count += batch.mask.sum()\n",
    "    return total_mae / total_count\n",
    "\n",
    "def aggregate_accuracy_over_dataloader(dl):\n",
    "    total_correct_preds = 0.0\n",
    "    total_count = 0\n",
    "    with torch.no_grad():\n",
    "        for batch in dl:            \n",
    "            _, predicted_marks = model.predict(batch)\n",
    "            correct_predictions = (predicted_marks == batch.marks) * batch.mask\n",
    "            total_correct_preds += correct_predictions.sum().item()\n",
    "            total_count += batch.mask.sum().item()\n",
    "    return total_correct_preds / total_count\n",
    "\n",
    "def errors_over_dataloader(dl):\n",
    "    result = torch.Tensor()\n",
    "    with torch.no_grad():\n",
    "        for batch in dl:\n",
    "            predicted_inter_times, _ = model.predict(batch)\n",
    "            errors = predicted_inter_times - batch.inter_times\n",
    "            indices = torch.nonzero(batch.mask, as_tuple=True)\n",
    "            filtered_errors = errors[indices]\n",
    "            result = torch.cat((result, filtered_errors), dim=-1)\n",
    "    return result"
   ]
  },
  {
   "cell_type": "code",
   "execution_count": 12,
   "metadata": {
    "scrolled": true,
    "tags": []
   },
   "outputs": [
    {
     "name": "stdout",
     "output_type": "stream",
     "text": [
      "Starting training...\n",
      "Epoch    0: loss_train_last_batch = 89.5, loss_val = 89.0, mae_val = 385.9, acc_val = 0.5\n",
      "Epoch    5: loss_train_last_batch = 47.2, loss_val = 47.2, mae_val = 385.9, acc_val = 1.0\n",
      "Epoch   10: loss_train_last_batch = 42.8, loss_val = 41.1, mae_val = 385.9, acc_val = 1.0\n",
      "Epoch   15: loss_train_last_batch = 37.7, loss_val = 39.5, mae_val = 385.9, acc_val = 1.0\n",
      "Epoch   20: loss_train_last_batch = 35.9, loss_val = 36.7, mae_val = 385.9, acc_val = 1.0\n",
      "Epoch   25: loss_train_last_batch = 32.8, loss_val = 32.1, mae_val = 385.9, acc_val = 1.0\n",
      "Epoch   30: loss_train_last_batch = 31.5, loss_val = 32.1, mae_val = 385.9, acc_val = 1.0\n",
      "Epoch   35: loss_train_last_batch = 35.2, loss_val = 38.7, mae_val = 385.9, acc_val = 1.0\n",
      "Epoch   40: loss_train_last_batch = 26.5, loss_val = 25.9, mae_val = 385.9, acc_val = 1.0\n",
      "Epoch   45: loss_train_last_batch = 36.3, loss_val = 40.5, mae_val = 385.9, acc_val = 1.0\n",
      "Epoch   50: loss_train_last_batch = 32.6, loss_val = 30.1, mae_val = 385.9, acc_val = 1.0\n",
      "Epoch   55: loss_train_last_batch = 38.9, loss_val = 34.4, mae_val = 385.9, acc_val = 1.0\n",
      "Epoch   60: loss_train_last_batch = 36.2, loss_val = 37.0, mae_val = 385.9, acc_val = 1.0\n",
      "Epoch   65: loss_train_last_batch = 36.3, loss_val = 32.8, mae_val = 385.9, acc_val = 1.0\n",
      "Epoch   70: loss_train_last_batch = 29.3, loss_val = 32.4, mae_val = 385.9, acc_val = 1.0\n",
      "Epoch   75: loss_train_last_batch = 44.8, loss_val = 36.4, mae_val = 385.9, acc_val = 1.0\n",
      "Epoch   80: loss_train_last_batch = 29.9, loss_val = 30.3, mae_val = 385.9, acc_val = 1.0\n",
      "Epoch   85: loss_train_last_batch = 28.5, loss_val = 28.4, mae_val = 385.9, acc_val = 1.0\n",
      "Epoch   90: loss_train_last_batch = 27.6, loss_val = 27.8, mae_val = 385.9, acc_val = 1.0\n",
      "Epoch   95: loss_train_last_batch = 26.6, loss_val = 28.7, mae_val = 385.9, acc_val = 1.0\n",
      "Epoch  100: loss_train_last_batch = 29.3, loss_val = 30.2, mae_val = 385.9, acc_val = 1.0\n",
      "Breaking due to early stopping at epoch 103\n"
     ]
    }
   ],
   "source": [
    "# Traning\n",
    "print('Starting training...')\n",
    "\n",
    "impatient = 0\n",
    "best_loss = np.inf\n",
    "best_model = deepcopy(model.state_dict())\n",
    "training_val_losses = []\n",
    "\n",
    "for epoch in range(max_epochs):\n",
    "    model.train()\n",
    "    for batch in dl_train:\n",
    "        opt.zero_grad()\n",
    "        loss = -model.log_prob(batch).mean()\n",
    "        loss.backward()\n",
    "        opt.step()\n",
    "\n",
    "    model.eval()\n",
    "    with torch.no_grad():\n",
    "        loss_val = aggregate_loss_over_dataloader(dl_val)\n",
    "        training_val_losses.append(loss_val)\n",
    "        mae_val = aggregate_mae_over_dataloader(dl_val)\n",
    "        acc_val = aggregate_accuracy_over_dataloader(dl_val)\n",
    "        \n",
    "    if (best_loss - loss_val) < 1e-4:\n",
    "        impatient += 1\n",
    "        if loss_val < best_loss:\n",
    "            best_loss = loss_val\n",
    "            best_model = deepcopy(model.state_dict())\n",
    "    else:\n",
    "        best_loss = loss_val\n",
    "        best_model = deepcopy(model.state_dict())\n",
    "        impatient = 0\n",
    "\n",
    "    if impatient >= patience:\n",
    "        print(f'Breaking due to early stopping at epoch {epoch}')\n",
    "        break\n",
    "\n",
    "    if epoch % display_step == 0:        \n",
    "        print(f\"Epoch {epoch:4d}: loss_train_last_batch = {loss.item():.1f}, loss_val = {loss_val:.1f}, mae_val = {mae_val:.1f}, acc_val = {acc_val:.1f}\")"
   ]
  },
  {
   "cell_type": "code",
   "execution_count": null,
   "metadata": {},
   "outputs": [],
   "source": [
    "# Evaluation via negative log-likelihood\n",
    "model.load_state_dict(best_model)\n",
    "model.eval()\n",
    "\n",
    "# All training & testing sequences stacked into a single batch\n",
    "with torch.no_grad():\n",
    "    final_loss_train = aggregate_loss_over_dataloader(dl_train)\n",
    "    final_loss_val = aggregate_loss_over_dataloader(dl_val)\n",
    "    final_loss_test = aggregate_loss_over_dataloader(dl_test)\n",
    "\n",
    "print(f'Negative log-likelihood:\\n'\n",
    "      f' - Train: {final_loss_train:.1f}\\n'\n",
    "      f' - Val:   {final_loss_val:.1f}\\n'\n",
    "      f' - Test:  {final_loss_test:.1f}')    "
   ]
  },
  {
   "cell_type": "code",
   "execution_count": null,
   "metadata": {
    "tags": []
   },
   "outputs": [],
   "source": [
    "# Evaluation via mean absolute error\n",
    "model.load_state_dict(best_model)\n",
    "model.eval()\n",
    "\n",
    "with torch.no_grad():\n",
    "    final_mae_train = aggregate_mae_over_dataloader(dl_train)\n",
    "    final_mae_val = aggregate_mae_over_dataloader(dl_val)\n",
    "    final_mae_test = aggregate_mae_over_dataloader(dl_test)\n",
    "\n",
    "print(f'Mean absolute error:\\n'\n",
    "      f' - Train: {final_mae_train:.1f}\\n'\n",
    "      f' - Val:   {final_mae_val:.1f}\\n'\n",
    "      f' - Test:  {final_mae_test:.1f}')"
   ]
  },
  {
   "cell_type": "code",
   "execution_count": 388,
   "metadata": {
    "tags": []
   },
   "outputs": [
    {
     "data": {
      "text/plain": [
       "Text(0.5, 1.0, 'Differences between Predicted and True Inter-Time')"
      ]
     },
     "execution_count": 388,
     "metadata": {},
     "output_type": "execute_result"
    },
    {
     "data": {
      "image/png": "[encoded data removed]",
      "text/plain": [
       "<Figure size 432x288 with 1 Axes>"
      ]
     },
     "metadata": {
      "needs_background": "light"
     },
     "output_type": "display_data"
    }
   ],
   "source": [
    "# Evaluation of differences between predicted and true inter-time\n",
    "model.load_state_dict(best_model)\n",
    "model.eval() \n",
    "\n",
    "plt.hist(errors_over_dataloader(dl_test).numpy(), bins=100, label=\"test\", range=(-80, 80), density=True)\n",
    "plt.ylabel(\"Probability\")\n",
    "plt.xlabel(\"Difference to true inter-time (ms)\")\n",
    "plt.title(\"Differences between Predicted and True Inter-Time\")"
   ]
  },
  {
   "cell_type": "code",
   "execution_count": null,
   "metadata": {},
   "outputs": [],
   "source": [
    "# Evaluation via accuracy\n",
    "model.load_state_dict(best_model)\n",
    "model.eval()\n",
    "\n",
    "with torch.no_grad():\n",
    "    final_acc_train = aggregate_accuracy_over_dataloader(dl_train)\n",
    "    final_acc_val = aggregate_accuracy_over_dataloader(dl_val)\n",
    "    final_acc_test = aggregate_accuracy_over_dataloader(dl_test)\n",
    "\n",
    "print(f'Accuracy:\\n'\n",
    "      f' - Train: {final_acc_train:.1f}\\n'\n",
    "      f' - Val:   {final_acc_val:.1f}\\n'\n",
    "      f' - Test:  {final_acc_test:.1f}')"
   ]
  },
  {
   "cell_type": "markdown",
   "metadata": {},
   "source": [
    "Compare the distribution of sequence lengths for real and simulated data"
   ]
  },
  {
   "cell_type": "code",
   "execution_count": null,
   "metadata": {},
   "outputs": [],
   "source": [
    "sampled_batch = model.sample(t_max=100, batch_size=1000)"
   ]
  },
  {
   "cell_type": "code",
   "execution_count": null,
   "metadata": {},
   "outputs": [],
   "source": [
    "real_batch = dpp.data.Batch.from_list([s for s in dataset])"
   ]
  },
  {
   "cell_type": "code",
   "execution_count": null,
   "metadata": {},
   "outputs": [],
   "source": [
    "plt.hist(sampled_batch.mask.sum(-1).cpu().numpy(), 50, label=\"Sampled\", density=True, range=(0, 300));\n",
    "plt.hist(real_batch.mask.sum(-1).cpu().numpy(), 50, alpha=0.3, label=\"Real data\", density=True, range=(0, 300));\n",
    "plt.xlabel(\"Sequence length\")\n",
    "plt.ylabel(\"Frequency\")\n",
    "plt.legend()"
   ]
  }
 ],
 "metadata": {
  "interpreter": {
   "hash": "69eab8d6e6b2d802a92b213253e67d01208d34a5ba75b93b41b5d52fbeb698e3"
  },
  "kernelspec": {
   "display_name": "ifltpp",
   "language": "python",
   "name": "python3"
  },
  "language_info": {
   "codemirror_mode": {
    "name": "ipython",
    "version": 3
   },
   "file_extension": ".py",
   "mimetype": "text/x-python",
   "name": "python",
   "nbconvert_exporter": "python",
   "pygments_lexer": "ipython3",
   "version": "3.9.7"
  },
  "metadata": {
   "interpreter": {
    "hash": "f977599a756708fbfdd0fdf6f342412f314e8fc379cda59ccfbf9fdfe5b18870"
   }
  },
  "toc": {
   "base_numbering": 1,
   "nav_menu": {},
   "number_sections": true,
   "sideBar": true,
   "skip_h1_title": false,
   "title_cell": "Table of Contents",
   "title_sidebar": "Contents",
   "toc_cell": false,
   "toc_position": {},
   "toc_section_display": true,
   "toc_window_display": false
  }
 },
 "nbformat": 4,
 "nbformat_minor": 4
}
